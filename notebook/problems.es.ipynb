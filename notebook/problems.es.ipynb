{
 "cells": [
  {
   "cell_type": "markdown",
   "id": "d9d036c6",
   "metadata": {},
   "source": [
    "# Problemas de prueba de hipótesis"
   ]
  },
  {
   "cell_type": "markdown",
   "id": "d157c4db",
   "metadata": {},
   "source": [
    "## Ejercicio 1\n",
    "\n",
    "Usted es un nutricionista que investiga dos tipos diferentes de dietas para ver si existe una diferencia significativa en la pérdida de peso después de un mes. Eliges dos grupos aleatorios de personas; un grupo sigue la primera dieta y el otro sigue la segunda. Al final del mes, se registra la pérdida de peso (en kg) de cada persona:\n",
    "\n",
    "| Diet 1 | Diet 2 |\n",
    "|:-------|:-------|\n",
    "| 2.0 | 3.0 |\n",
    "| 2.5 | 3.2 |\n",
    "| 3.0 | 3.1 |\n",
    "| 2.8 | 2.9 |\n",
    "| 2.3 | 2.8 |\n",
    "| 2.7 | 3.0 |\n",
    "| 2.5 | 3.2 |\n",
    "\n",
    "Con estos datos se busca responder a la siguiente pregunta: ¿Existe una diferencia significativa en la pérdida de peso promedio entre las personas que siguieron la primera dieta y las que siguieron la segunda dieta?\n",
    "\n",
    "Para sacar conclusiones, siga los siguientes puntos:\n",
    "\n",
    "-Enunciar la hipótesis: hipótesis nula y alternativa.\n",
    "-Realizar la prueba para comprobar la hipótesis. Puede utilizar la prueba t de Student.\n",
    "-Analizar las conclusiones."
   ]
  },
  {
   "cell_type": "code",
   "execution_count": 1,
   "id": "8e0f3cf0",
   "metadata": {},
   "outputs": [
    {
     "name": "stdout",
     "output_type": "stream",
     "text": [
      "-3.5383407969933938\n",
      "0.007125697852424118\n"
     ]
    }
   ],
   "source": [
    "# TODO\n",
    "import numpy as np\n",
    "import scipy.stats as stats\n",
    "Diet1_ = np.array([2.0, 2.5, 3.0, 2.8, 2.3, 2.7, 2.5])\n",
    "Diet2_ = np.array([3.0, 3.2, 3.1, 2.9, 2.8, 3.0, 3.2])\n",
    "\n",
    "mean1 = np.mean(Diet1_)\n",
    "mean2 = np.mean(Diet2_)\n",
    "\n",
    "std1 = np.std(Diet1_, ddof=1)\n",
    "std2 = np.std(Diet2_, ddof=1)\n",
    "\n",
    "n1 = len(Diet1_)\n",
    "n2 = len(Diet2_)\n",
    "\n",
    "t_test = (mean1 - mean2)/np.sqrt(((std1)**2/(n1))+((std2)**2/(n2)))\n",
    "print(t_test)\n",
    "\n",
    "s1_sq, s2_sq = std1**2, std2**2\n",
    "numerador = (s1_sq / n1 + s2_sq / n2) ** 2\n",
    "denominador = ((s1_sq / n1)**2 / (n1 - 1)) + ((s2_sq / n2)**2 / (n2 - 1))\n",
    "df = numerador / denominador\n",
    "\n",
    "# Cálculo del p-value usando la distribución t\n",
    "p_value = 2 * (1 - stats.t.cdf(abs(t_test), df))\n",
    "print(p_value)"
   ]
  },
  {
   "cell_type": "code",
   "execution_count": null,
   "id": "5afc980e",
   "metadata": {},
   "outputs": [],
   "source": [
    "#Si el valor p es menor al nivel de significancia establecido del 5% (0.05), se rechaza la hipótesis nula y se concluye que hay una diferencia \n",
    "#significativa en la pérdida de peso entre las dos dietas.\n",
    "#Si el valor p es mayor, no se rechaza la hipótesis nula, lo que indica que no existe una diferencia significativa.\n",
    "\n",
    "\n",
    "\n",
    "\n",
    "\n",
    "\n"
   ]
  },
  {
   "cell_type": "markdown",
   "id": "f432e18e",
   "metadata": {},
   "source": [
    "## ANOVA\n",
    "\n",
    "**ANOVA** (*Analysis of Variance - Análisis de variación*) Es una técnica estadística utilizada para comparar las medidas de dos o más grupos. La idea detrás de ANOVA es descomponer la variabilidad total de los datos en dos componentes: variabilidad entre grupos y variabilidad dentro de los grupos:\n",
    "\n",
    "- **Variabilidad entre grupos**: Esta variabilidad se refiere a las diferencias entre las medias del grupo. Si esta variabilidad es considerablemente mayor que la variabilidad dentro del grupo, podría ser una indicación de que al menos una de las medias del grupo es diferente.\n",
    "- **Variabilidad dentro del grupo**: Esta variabilidad se refiere a la dispersión de los datos dentro de cada grupo. Si todos los grupos tienen una variabilidad similar, entonces cualquier diferencia notable en las medias de los grupos podría considerarse significativa.\n",
    "\n",
    "Las hipótesis en ANOVA suelen incluir:\n",
    "\n",
    "- **Hipótesis nula** ($H₀$): Las medias de todos los grupos son iguales.\n",
    "- **Hipótesis alternativa** ($H₁$): Al menos una de las medias del grupo es diferente.\n",
    "\n",
    "Si el resultado de la prueba ANOVA es significativo (por ejemplo, un valor p inferior a un umbral como 0,05), esto sugiere que al menos la media de un grupo es diferente."
   ]
  },
  {
   "cell_type": "markdown",
   "id": "fc5f3721",
   "metadata": {},
   "source": [
    "## Ejercicio 2\n",
    "\n",
    "Un agricultor decide probar tres tipos diferentes de fertilizantes para determinar si alguno es superior en términos de producción de maíz. El agricultor planta maíz en 15 parcelas idénticas y utiliza los tres fertilizantes (5 parcelas para cada tipo). Al final de la temporada mide el rendimiento de maíz (en kg) de cada parcela, con el siguiente resultado:\n",
    "\n",
    "| Fertilizante 1 | Fertilizante 2 | Fertilizante 3 |\n",
    "|:-------------|:-------------|:-------------|\n",
    "| 20 | 22 | 24 |\n",
    "| 21 | 21 | 23 |\n",
    "| 20 | 23 | 22 |\n",
    "| 19 | 22 | 23 |\n",
    "| 20 | 21 | 24 |\n",
    "\n",
    "Con estos datos busca responder la siguiente pregunta: ¿Existe una diferencia significativa en el rendimiento promedio del maíz entre los tres tipos de fertilizantes?\n",
    "\n",
    "Para ayudarte, sigue los siguientes puntos:\n",
    "\n",
    "-Enunciar la hipótesis: hipótesis nula y alternativa.\n",
    "-Realizar la prueba ANOVA.\n",
    "-Analizar las conclusiones.\n",
    "-Si un fertilizante es mejor que otro, ¿cómo podemos saberlo?"
   ]
  },
  {
   "cell_type": "code",
   "execution_count": 2,
   "id": "62d42d41",
   "metadata": {},
   "outputs": [
    {
     "name": "stdout",
     "output_type": "stream",
     "text": [
      "Defaulting to user installation because normal site-packages is not writeable\n",
      "Requirement already satisfied: tableone in /home/vscode/.local/lib/python3.11/site-packages (0.9.1)\n",
      "Requirement already satisfied: jinja2>=3.1.4 in /home/vscode/.local/lib/python3.11/site-packages (from tableone) (3.1.4)\n",
      "Requirement already satisfied: numpy>=1.19.1 in /home/vscode/.local/lib/python3.11/site-packages (from tableone) (2.2.0)\n",
      "Requirement already satisfied: openpyxl>=3.1.2 in /home/vscode/.local/lib/python3.11/site-packages (from tableone) (3.1.5)\n",
      "Requirement already satisfied: pandas>=2.0.3 in /home/vscode/.local/lib/python3.11/site-packages (from tableone) (2.2.3)\n",
      "Requirement already satisfied: scipy>=1.10.1 in /home/vscode/.local/lib/python3.11/site-packages (from tableone) (1.14.1)\n",
      "Requirement already satisfied: statsmodels>=0.14.1 in /home/vscode/.local/lib/python3.11/site-packages (from tableone) (0.14.4)\n",
      "Requirement already satisfied: tabulate>=0.9.0 in /home/vscode/.local/lib/python3.11/site-packages (from tableone) (0.9.0)\n",
      "Requirement already satisfied: MarkupSafe>=2.0 in /home/vscode/.local/lib/python3.11/site-packages (from jinja2>=3.1.4->tableone) (3.0.2)\n",
      "Requirement already satisfied: et-xmlfile in /home/vscode/.local/lib/python3.11/site-packages (from openpyxl>=3.1.2->tableone) (2.0.0)\n",
      "Requirement already satisfied: python-dateutil>=2.8.2 in /home/vscode/.local/lib/python3.11/site-packages (from pandas>=2.0.3->tableone) (2.9.0.post0)\n",
      "Requirement already satisfied: pytz>=2020.1 in /home/vscode/.local/lib/python3.11/site-packages (from pandas>=2.0.3->tableone) (2024.2)\n",
      "Requirement already satisfied: tzdata>=2022.7 in /home/vscode/.local/lib/python3.11/site-packages (from pandas>=2.0.3->tableone) (2024.2)\n",
      "Requirement already satisfied: patsy>=0.5.6 in /home/vscode/.local/lib/python3.11/site-packages (from statsmodels>=0.14.1->tableone) (1.0.1)\n",
      "Requirement already satisfied: packaging>=21.3 in /home/vscode/.local/lib/python3.11/site-packages (from statsmodels>=0.14.1->tableone) (24.2)\n",
      "Requirement already satisfied: six>=1.5 in /home/vscode/.local/lib/python3.11/site-packages (from python-dateutil>=2.8.2->pandas>=2.0.3->tableone) (1.17.0)\n",
      "\n",
      "\u001b[1m[\u001b[0m\u001b[34;49mnotice\u001b[0m\u001b[1;39;49m]\u001b[0m\u001b[39;49m A new release of pip is available: \u001b[0m\u001b[31;49m23.1.2\u001b[0m\u001b[39;49m -> \u001b[0m\u001b[32;49m25.0\u001b[0m\n",
      "\u001b[1m[\u001b[0m\u001b[34;49mnotice\u001b[0m\u001b[1;39;49m]\u001b[0m\u001b[39;49m To update, run: \u001b[0m\u001b[32;49mpip install --upgrade pip\u001b[0m\n"
     ]
    }
   ],
   "source": [
    "# TODO\n",
    "\n",
    "!pip install tableone\n",
    "\n"
   ]
  },
  {
   "cell_type": "code",
   "execution_count": 6,
   "id": "eecad0ca",
   "metadata": {},
   "outputs": [
    {
     "data": {
      "text/html": [
       "<div>\n",
       "<style scoped>\n",
       "    .dataframe tbody tr th:only-of-type {\n",
       "        vertical-align: middle;\n",
       "    }\n",
       "\n",
       "    .dataframe tbody tr th {\n",
       "        vertical-align: top;\n",
       "    }\n",
       "\n",
       "    .dataframe thead tr th {\n",
       "        text-align: left;\n",
       "    }\n",
       "</style>\n",
       "<table border=\"1\" class=\"dataframe\">\n",
       "  <thead>\n",
       "    <tr>\n",
       "      <th></th>\n",
       "      <th></th>\n",
       "      <th colspan=\"7\" halign=\"left\">Grouped by group</th>\n",
       "    </tr>\n",
       "    <tr>\n",
       "      <th></th>\n",
       "      <th></th>\n",
       "      <th>Missing</th>\n",
       "      <th>Overall</th>\n",
       "      <th>A</th>\n",
       "      <th>B</th>\n",
       "      <th>C</th>\n",
       "      <th>P-Value</th>\n",
       "      <th>Test</th>\n",
       "    </tr>\n",
       "  </thead>\n",
       "  <tbody>\n",
       "    <tr>\n",
       "      <th>n</th>\n",
       "      <th></th>\n",
       "      <td></td>\n",
       "      <td>20</td>\n",
       "      <td>5</td>\n",
       "      <td>5</td>\n",
       "      <td>10</td>\n",
       "      <td></td>\n",
       "      <td></td>\n",
       "    </tr>\n",
       "    <tr>\n",
       "      <th>fer, mean (SD)</th>\n",
       "      <th></th>\n",
       "      <td>0</td>\n",
       "      <td>22.1 (1.5)</td>\n",
       "      <td>20.0 (0.7)</td>\n",
       "      <td>21.8 (0.8)</td>\n",
       "      <td>23.2 (0.8)</td>\n",
       "      <td>&lt;0.001</td>\n",
       "      <td>One-way ANOVA</td>\n",
       "    </tr>\n",
       "  </tbody>\n",
       "</table>\n",
       "</div><br />"
      ],
      "text/plain": [
       "                Grouped by group                                                                       \n",
       "                         Missing     Overall           A           B           C P-Value           Test\n",
       "n                                         20           5           5          10                       \n",
       "fer, mean (SD)                 0  22.1 (1.5)  20.0 (0.7)  21.8 (0.8)  23.2 (0.8)  <0.001  One-way ANOVA"
      ]
     },
     "execution_count": 6,
     "metadata": {},
     "output_type": "execute_result"
    }
   ],
   "source": [
    "import numpy as np\n",
    "import pandas as pd\n",
    "from tableone import TableOne\n",
    "\n",
    "size = 5\n",
    "\n",
    "fer_1 = pd.Series(np.array([20, 21, 20, 19, 20]))\n",
    "fer_2 = pd.Series(np.array([22, 21, 23, 22, 21]))\n",
    "fer_3 = pd.Series(np.array([24, 23, 22, 23, 24]))\n",
    "\n",
    "\n",
    "pd.DataFrame()\n",
    "df = pd.concat([fer_1, fer_2, fer_3])\n",
    "df = pd.DataFrame(df, columns=['fer'])\n",
    "df['group'] = ['A' if x < size else 'B' if x < 2*size else 'C' for x in range(size*3)]\n",
    "df.reset_index(inplace=True, drop=True)\n",
    "TableOne(df,  groupby='group', pval=True, htest_name=True)\n",
    "\n",
    "\n",
    "fer4  =  pd.DataFrame(pd.Series(np.array([24, 23, 22, 23, 24])), columns=['fer'])\n",
    "df = pd.concat([df, fer4])\n",
    "df['group'] = np.where(pd.isnull(df['group']), 'C', df['group'])\n",
    "df.reset_index(inplace=True, drop=True)\n",
    "TableOne(df,  groupby='group', pval=True, htest_name=True)\n"
   ]
  },
  {
   "cell_type": "markdown",
   "id": "d93805ef",
   "metadata": {},
   "source": []
  },
  {
   "cell_type": "code",
   "execution_count": null,
   "id": "ec83b604",
   "metadata": {},
   "outputs": [],
   "source": []
  },
  {
   "cell_type": "code",
   "execution_count": null,
   "metadata": {},
   "outputs": [],
   "source": []
  }
 ],
 "metadata": {
  "kernelspec": {
   "display_name": "Python 3",
   "language": "python",
   "name": "python3"
  },
  "language_info": {
   "codemirror_mode": {
    "name": "ipython",
    "version": 3
   },
   "file_extension": ".py",
   "mimetype": "text/x-python",
   "name": "python",
   "nbconvert_exporter": "python",
   "pygments_lexer": "ipython3",
   "version": "3.11.4"
  }
 },
 "nbformat": 4,
 "nbformat_minor": 5
}
